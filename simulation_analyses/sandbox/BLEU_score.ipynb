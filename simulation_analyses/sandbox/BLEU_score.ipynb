{
 "cells": [
  {
   "cell_type": "code",
   "execution_count": 47,
   "metadata": {
    "collapsed": true
   },
   "outputs": [],
   "source": [
    "%matplotlib inline\n",
    "import os\n",
    "import pandas as pd\n",
    "import numpy as np\n",
    "from matplotlib import pyplot as plt\n",
    "\n",
    "SIM_DIR = './sim_dat/'"
   ]
  },
  {
   "cell_type": "code",
   "execution_count": 48,
   "metadata": {
    "collapsed": false
   },
   "outputs": [],
   "source": [
    "sim_names = os.listdir(SIM_DIR)\n",
    "sim_names.remove('man_who_kick_can_static.csv')"
   ]
  },
  {
   "cell_type": "code",
   "execution_count": 49,
   "metadata": {
    "collapsed": true
   },
   "outputs": [],
   "source": [
    "dataframes = {}\n",
    "for name in sim_names:\n",
    "    input_name = name[:-4]\n",
    "    dataframes[input_name] = pd.read_csv(SIM_DIR + name)\n",
    "    dataframes[input_name]['input_name'] = input_name\n",
    "combined_df = pd.concat(dataframes.values()) # concatenates all the dataframes"
   ]
  },
  {
   "cell_type": "code",
   "execution_count": 50,
   "metadata": {
    "collapsed": false
   },
   "outputs": [
    {
     "data": {
      "text/html": [
       "<div>\n",
       "<table border=\"1\" class=\"dataframe\">\n",
       "  <thead>\n",
       "    <tr style=\"text-align: right;\">\n",
       "      <th></th>\n",
       "      <th>seed</th>\n",
       "      <th>input_rate</th>\n",
       "      <th>max_time</th>\n",
       "      <th>num_restarts</th>\n",
       "      <th>deact_weight</th>\n",
       "      <th>time_pressure</th>\n",
       "      <th>act_rest</th>\n",
       "      <th>input_name</th>\n",
       "      <th>sub_threshold</th>\n",
       "      <th>coop_weight</th>\n",
       "      <th>...</th>\n",
       "      <th>noise_std</th>\n",
       "      <th>ext_weight</th>\n",
       "      <th>conf_threshold</th>\n",
       "      <th>utterance_intervals</th>\n",
       "      <th>cxn_usage_count</th>\n",
       "      <th>syntactic_complexity</th>\n",
       "      <th>utterance_lengths</th>\n",
       "      <th>requested_info</th>\n",
       "      <th>max_BLEU_score</th>\n",
       "      <th>utterance</th>\n",
       "    </tr>\n",
       "  </thead>\n",
       "  <tbody>\n",
       "    <tr>\n",
       "      <th>0</th>\n",
       "      <td>378948134</td>\n",
       "      <td>100</td>\n",
       "      <td>2000</td>\n",
       "      <td>1</td>\n",
       "      <td>0.0</td>\n",
       "      <td>1.0</td>\n",
       "      <td>0.001</td>\n",
       "      <td>woman_punch_man_kick_can_dyn</td>\n",
       "      <td>0.8</td>\n",
       "      <td>1.0</td>\n",
       "      <td>...</td>\n",
       "      <td>1.0</td>\n",
       "      <td>1.0</td>\n",
       "      <td>0.3</td>\n",
       "      <td>NaN</td>\n",
       "      <td>0.0</td>\n",
       "      <td>NaN</td>\n",
       "      <td>NaN</td>\n",
       "      <td>NaN</td>\n",
       "      <td>NaN</td>\n",
       "      <td>NaN</td>\n",
       "    </tr>\n",
       "    <tr>\n",
       "      <th>1</th>\n",
       "      <td>378948134</td>\n",
       "      <td>100</td>\n",
       "      <td>2000</td>\n",
       "      <td>1</td>\n",
       "      <td>0.0</td>\n",
       "      <td>1.0</td>\n",
       "      <td>0.001</td>\n",
       "      <td>woman_punch_man_kick_can_dyn</td>\n",
       "      <td>0.8</td>\n",
       "      <td>1.0</td>\n",
       "      <td>...</td>\n",
       "      <td>1.0</td>\n",
       "      <td>10.0</td>\n",
       "      <td>0.3</td>\n",
       "      <td>130.0</td>\n",
       "      <td>8.0</td>\n",
       "      <td>0.250000</td>\n",
       "      <td>6.500000</td>\n",
       "      <td>NaN</td>\n",
       "      <td>1.0</td>\n",
       "      <td>&lt;START&gt;&lt;27&gt;man is punch -ed by lady&lt;157&gt;wateri...</td>\n",
       "    </tr>\n",
       "    <tr>\n",
       "      <th>2</th>\n",
       "      <td>378948134</td>\n",
       "      <td>100</td>\n",
       "      <td>2000</td>\n",
       "      <td>1</td>\n",
       "      <td>0.0</td>\n",
       "      <td>1.0</td>\n",
       "      <td>0.001</td>\n",
       "      <td>woman_punch_man_kick_can_dyn</td>\n",
       "      <td>0.8</td>\n",
       "      <td>1.0</td>\n",
       "      <td>...</td>\n",
       "      <td>2.0</td>\n",
       "      <td>1.0</td>\n",
       "      <td>0.3</td>\n",
       "      <td>NaN</td>\n",
       "      <td>0.0</td>\n",
       "      <td>NaN</td>\n",
       "      <td>NaN</td>\n",
       "      <td>NaN</td>\n",
       "      <td>NaN</td>\n",
       "      <td>NaN</td>\n",
       "    </tr>\n",
       "    <tr>\n",
       "      <th>3</th>\n",
       "      <td>378948134</td>\n",
       "      <td>100</td>\n",
       "      <td>2000</td>\n",
       "      <td>1</td>\n",
       "      <td>0.0</td>\n",
       "      <td>1.0</td>\n",
       "      <td>0.001</td>\n",
       "      <td>woman_punch_man_kick_can_dyn</td>\n",
       "      <td>0.8</td>\n",
       "      <td>1.0</td>\n",
       "      <td>...</td>\n",
       "      <td>2.0</td>\n",
       "      <td>10.0</td>\n",
       "      <td>0.3</td>\n",
       "      <td>137.0</td>\n",
       "      <td>8.0</td>\n",
       "      <td>0.250000</td>\n",
       "      <td>6.500000</td>\n",
       "      <td>NaN</td>\n",
       "      <td>1.0</td>\n",
       "      <td>&lt;START&gt;&lt;29&gt;man is punch -ed by lady&lt;166&gt;wateri...</td>\n",
       "    </tr>\n",
       "    <tr>\n",
       "      <th>4</th>\n",
       "      <td>378948134</td>\n",
       "      <td>100</td>\n",
       "      <td>2000</td>\n",
       "      <td>1</td>\n",
       "      <td>0.0</td>\n",
       "      <td>1.0</td>\n",
       "      <td>0.001</td>\n",
       "      <td>woman_punch_man_kick_can_dyn</td>\n",
       "      <td>0.8</td>\n",
       "      <td>1.0</td>\n",
       "      <td>...</td>\n",
       "      <td>1.0</td>\n",
       "      <td>1.0</td>\n",
       "      <td>0.3</td>\n",
       "      <td>139.0</td>\n",
       "      <td>11.0</td>\n",
       "      <td>0.194444</td>\n",
       "      <td>5.333333</td>\n",
       "      <td>NaN</td>\n",
       "      <td>1.0</td>\n",
       "      <td>&lt;START&gt;&lt;51&gt;man is punch -ed by lady&lt;329&gt;man th...</td>\n",
       "    </tr>\n",
       "  </tbody>\n",
       "</table>\n",
       "<p>5 rows × 27 columns</p>\n",
       "</div>"
      ],
      "text/plain": [
       "        seed  input_rate  max_time  num_restarts  deact_weight  time_pressure  \\\n",
       "0  378948134         100      2000             1           0.0            1.0   \n",
       "1  378948134         100      2000             1           0.0            1.0   \n",
       "2  378948134         100      2000             1           0.0            1.0   \n",
       "3  378948134         100      2000             1           0.0            1.0   \n",
       "4  378948134         100      2000             1           0.0            1.0   \n",
       "\n",
       "   act_rest                    input_name  sub_threshold  coop_weight  \\\n",
       "0     0.001  woman_punch_man_kick_can_dyn            0.8          1.0   \n",
       "1     0.001  woman_punch_man_kick_can_dyn            0.8          1.0   \n",
       "2     0.001  woman_punch_man_kick_can_dyn            0.8          1.0   \n",
       "3     0.001  woman_punch_man_kick_can_dyn            0.8          1.0   \n",
       "4     0.001  woman_punch_man_kick_can_dyn            0.8          1.0   \n",
       "\n",
       "                         ...                          noise_std  ext_weight  \\\n",
       "0                        ...                                1.0         1.0   \n",
       "1                        ...                                1.0        10.0   \n",
       "2                        ...                                2.0         1.0   \n",
       "3                        ...                                2.0        10.0   \n",
       "4                        ...                                1.0         1.0   \n",
       "\n",
       "   conf_threshold  utterance_intervals  cxn_usage_count  syntactic_complexity  \\\n",
       "0             0.3                  NaN              0.0                   NaN   \n",
       "1             0.3                130.0              8.0              0.250000   \n",
       "2             0.3                  NaN              0.0                   NaN   \n",
       "3             0.3                137.0              8.0              0.250000   \n",
       "4             0.3                139.0             11.0              0.194444   \n",
       "\n",
       "   utterance_lengths  requested_info  max_BLEU_score  \\\n",
       "0                NaN             NaN             NaN   \n",
       "1           6.500000             NaN             1.0   \n",
       "2                NaN             NaN             NaN   \n",
       "3           6.500000             NaN             1.0   \n",
       "4           5.333333             NaN             1.0   \n",
       "\n",
       "                                           utterance  \n",
       "0                                                NaN  \n",
       "1  <START><27>man is punch -ed by lady<157>wateri...  \n",
       "2                                                NaN  \n",
       "3  <START><29>man is punch -ed by lady<166>wateri...  \n",
       "4  <START><51>man is punch -ed by lady<329>man th...  \n",
       "\n",
       "[5 rows x 27 columns]"
      ]
     },
     "execution_count": 50,
     "metadata": {},
     "output_type": "execute_result"
    }
   ],
   "source": [
    "# quick data exploration\n",
    "combined_df.head()"
   ]
  },
  {
   "cell_type": "code",
   "execution_count": 51,
   "metadata": {
    "collapsed": false
   },
   "outputs": [],
   "source": [
    "df_stats = combined_df.groupby(['input_name']).agg([np.mean, np.std])"
   ]
  },
  {
   "cell_type": "code",
   "execution_count": 52,
   "metadata": {
    "collapsed": false
   },
   "outputs": [],
   "source": [
    "s = df_stats['max_BLEU_score', 'mean']"
   ]
  },
  {
   "cell_type": "code",
   "execution_count": 53,
   "metadata": {
    "collapsed": false
   },
   "outputs": [
    {
     "data": {
      "text/plain": [
       "<matplotlib.lines.Line2D at 0xb250a58>"
      ]
     },
     "execution_count": 53,
     "metadata": {},
     "output_type": "execute_result"
    },
    {
     "data": {
      "image/png": "[encoded data removed]",
      "text/plain": [
       "<matplotlib.figure.Figure at 0xb24deb8>"
      ]
     },
     "metadata": {},
     "output_type": "display_data"
    }
   ],
   "source": [
    "plt.figure()\n",
    "s.plot.bar(yerr=df_stats['max_BLEU_score', 'std']); plt.axhline(0, color='k')"
   ]
  },
  {
   "cell_type": "code",
   "execution_count": null,
   "metadata": {
    "collapsed": true
   },
   "outputs": [],
   "source": []
  }
 ],
 "metadata": {
  "anaconda-cloud": {},
  "kernelspec": {
   "display_name": "Python [default]",
   "language": "python",
   "name": "python2"
  },
  "language_info": {
   "codemirror_mode": {
    "name": "ipython",
    "version": 2
   },
   "file_extension": ".py",
   "mimetype": "text/x-python",
   "name": "python",
   "nbconvert_exporter": "python",
   "pygments_lexer": "ipython2",
   "version": "2.7.12"
  }
 },
 "nbformat": 4,
 "nbformat_minor": 1
}
